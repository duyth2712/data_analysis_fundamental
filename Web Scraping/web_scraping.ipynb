{
 "cells": [
  {
   "cell_type": "code",
   "execution_count": 38,
   "id": "db4f811b",
   "metadata": {},
   "outputs": [],
   "source": [
    "import pandas as pd\n",
    "from bs4 import BeautifulSoup\n",
    "from selenium import webdriver\n",
    "from selenium.webdriver.chrome.options import Options\n",
    "from selenium.webdriver.chrome.service import Service\n",
    "from webdriver_manager.chrome import ChromeDriverManager"
   ]
  },
  {
   "cell_type": "code",
   "execution_count": 50,
   "id": "033cfd0a",
   "metadata": {},
   "outputs": [],
   "source": [
    "chrome_driver_path = Service('C:/Users/THANHDUY/Downloads/Compressed/web_driver/chromedriver.exe')\n",
    "\n",
    "options = Options()\n",
    "options.add_argument(\"start-maximized\")\n",
    "driver = webdriver.Chrome(service=chrome_driver_path)\n",
    "driver.maximize_window()\n",
    "driver.get(\"https://techcrunch.com/\")"
   ]
  },
  {
   "cell_type": "code",
   "execution_count": 52,
   "id": "3e998b28",
   "metadata": {
    "scrolled": true
   },
   "outputs": [],
   "source": [
    "titles_list = []\n",
    "dates_list = []\n",
    "content = driver.page_source\n",
    "soup = BeautifulSoup(content)\n",
    "\n",
    "for a in soup.findAll(attrs='post-block__header'):\n",
    "    title = a.find('h2')\n",
    "    if name not in results:\n",
    "        titles_list.append(title.text)\n",
    "        \n",
    "for b in soup.findAll(attrs='post-block__meta'):\n",
    "    date = b.find('time')\n",
    "    if name not in results:\n",
    "        dates_list.append(date.text)\n",
    "driver.close()"
   ]
  },
  {
   "cell_type": "code",
   "execution_count": 71,
   "id": "4c2f1103",
   "metadata": {},
   "outputs": [],
   "source": [
    "df = pd.DataFrame({'Title':titles_list,\n",
    "                   'Date':dates_list})\n",
    "df.to_csv('web_scarping.csv',index = False, encoding='UTF-8')"
   ]
  },
  {
   "cell_type": "code",
   "execution_count": null,
   "id": "02d61938",
   "metadata": {},
   "outputs": [],
   "source": []
  }
 ],
 "metadata": {
  "kernelspec": {
   "display_name": "Python 3 (ipykernel)",
   "language": "python",
   "name": "python3"
  },
  "language_info": {
   "codemirror_mode": {
    "name": "ipython",
    "version": 3
   },
   "file_extension": ".py",
   "mimetype": "text/x-python",
   "name": "python",
   "nbconvert_exporter": "python",
   "pygments_lexer": "ipython3",
   "version": "3.9.7"
  }
 },
 "nbformat": 4,
 "nbformat_minor": 5
}
