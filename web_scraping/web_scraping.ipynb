{
 "cells": [
  {
   "cell_type": "code",
   "execution_count": 75,
   "id": "db4f811b",
   "metadata": {},
   "outputs": [],
   "source": [
    "import pandas as pd\n",
    "from bs4 import BeautifulSoup\n",
    "from selenium import webdriver\n",
    "from selenium.webdriver.chrome.options import Options\n",
    "from selenium.webdriver.chrome.service import Service\n",
    "from webdriver_manager.chrome import ChromeDriverManager\n",
    "from selenium.webdriver.common.by import By\n",
    "import time"
   ]
  },
  {
   "cell_type": "code",
   "execution_count": 76,
   "id": "033cfd0a",
   "metadata": {
    "scrolled": true
   },
   "outputs": [
    {
     "name": "stdout",
     "output_type": "stream",
     "text": [
      "complete\n"
     ]
    }
   ],
   "source": [
    "chrome_driver_path = Service('C:/Users/THANHDUY/Downloads/Compressed/web_driver/chromedriver.exe')\n",
    "\n",
    "options = Options()\n",
    "options.add_argument(\"start-maximized\")\n",
    "driver = webdriver.Chrome(service=chrome_driver_path)\n",
    "driver.maximize_window()\n",
    "driver.get(\"https://cellphones.com.vn/tablet.html\")\n",
    "while True:\n",
    "    try:\n",
    "        if(driver.find_element(by=By.CLASS_NAME, value='btn-show-more')):\n",
    "            loadMoreButton = driver.find_element(by=By.CLASS_NAME, value='btn-show-more')\n",
    "            time.sleep(2)\n",
    "            loadMoreButton.click()\n",
    "            time.sleep(5)\n",
    "    except Exception:\n",
    "        break\n",
    "print('complete')\n",
    "time.sleep(10)\n"
   ]
  },
  {
   "cell_type": "code",
   "execution_count": 77,
   "id": "3e998b28",
   "metadata": {
    "scrolled": true
   },
   "outputs": [],
   "source": [
    "name_list = []\n",
    "price_list = []\n",
    "old_price_list = []\n",
    "discount_list = []\n",
    "promotion_list = []\n",
    "content = driver.page_source\n",
    "soup = BeautifulSoup(content)\n",
    "\n",
    "# get Tablet information\n",
    "for a in soup.findAll(attrs='item-product'):\n",
    "    name = a.find('h3')\n",
    "    price = a.find('p',class_='special-price')\n",
    "    old_price = a.find('p',class_='old-price')\n",
    "    discount = a.find('p',class_='item-product__sticker-percent')\n",
    "    promotion = a.find('p',class_='gift-cont')\n",
    "    #get Name\n",
    "    if name not in name_list and name is not None:\n",
    "        name_list.append(name.text)\n",
    "    else:\n",
    "        old_price_list.append('')\n",
    "    #get price   \n",
    "    if price not in price_list and price is not None:\n",
    "        price_list.append(price.text)\n",
    "    else:\n",
    "        old_price_list.append('')  \n",
    "    #get old price:\n",
    "    if old_price not in old_price_list and old_price is not None:\n",
    "        old_price_list.append(old_price.text)\n",
    "    else:\n",
    "        old_price_list.append('')\n",
    "    #get promotion\n",
    "    if promotion not in promotion_list and promotion is not None:\n",
    "        promotion_list.append(promotion.text)\n",
    "    else:\n",
    "        promotion_list.append('')\n",
    "\n",
    "driver.close()"
   ]
  },
  {
   "cell_type": "code",
   "execution_count": 78,
   "id": "4c2f1103",
   "metadata": {},
   "outputs": [],
   "source": [
    "df = pd.DataFrame({'Name Product':name_list,\n",
    "                   'Price':price_list,\n",
    "                   'Old Price':old_price_list,\n",
    "                   'Promotion':promotion_list})\n",
    "df.to_csv('tablet.csv',index = False, encoding='UTF-8-sig')"
   ]
  }
 ],
 "metadata": {
  "kernelspec": {
   "display_name": "Python 3 (ipykernel)",
   "language": "python",
   "name": "python3"
  },
  "language_info": {
   "codemirror_mode": {
    "name": "ipython",
    "version": 3
   },
   "file_extension": ".py",
   "mimetype": "text/x-python",
   "name": "python",
   "nbconvert_exporter": "python",
   "pygments_lexer": "ipython3",
   "version": "3.9.7"
  }
 },
 "nbformat": 4,
 "nbformat_minor": 5
}
